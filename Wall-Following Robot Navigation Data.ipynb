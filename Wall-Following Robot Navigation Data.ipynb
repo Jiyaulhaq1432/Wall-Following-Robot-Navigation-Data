{
 "cells": [
  {
   "cell_type": "code",
   "execution_count": 1,
   "metadata": {},
   "outputs": [],
   "source": [
    "import pandas as pd\n",
    "import numpy as np\n",
    "from sklearn.model_selection import train_test_split\n",
    "from sklearn.preprocessing import StandardScaler"
   ]
  },
  {
   "cell_type": "code",
   "execution_count": 2,
   "metadata": {},
   "outputs": [],
   "source": [
    "df = pd.read_csv('C:\\\\Users\\\\HP\\\\Dropbox\\\\PC\\\\Downloads\\\\Wall-Following_Robot_Navigation\\\\sensor_readings_24.data', header=None)"
   ]
  },
  {
   "cell_type": "code",
   "execution_count": 3,
   "metadata": {},
   "outputs": [
    {
     "name": "stdout",
     "output_type": "stream",
     "text": [
      "   sensor_0  sensor_1  sensor_2  sensor_3  sensor_4  sensor_5  sensor_6  \\\n",
      "0     0.438     0.498     3.625     3.645       5.0     2.918       5.0   \n",
      "1     0.438     0.498     3.625     3.648       5.0     2.918       5.0   \n",
      "2     0.438     0.498     3.625     3.629       5.0     2.918       5.0   \n",
      "3     0.437     0.501     3.625     3.626       5.0     2.918       5.0   \n",
      "4     0.438     0.498     3.626     3.629       5.0     2.918       5.0   \n",
      "\n",
      "   sensor_7  sensor_8  sensor_9  ...  sensor_15  sensor_16  sensor_17  \\\n",
      "0     2.351     2.332     2.643  ...      0.593      0.502      0.493   \n",
      "1     2.637     2.332     2.649  ...      0.592      0.502      0.493   \n",
      "2     2.637     2.334     2.643  ...      0.593      0.502      0.493   \n",
      "3     2.353     2.334     2.642  ...      0.593      0.502      0.493   \n",
      "4     2.640     2.334     2.639  ...      0.592      0.502      0.493   \n",
      "\n",
      "   sensor_18  sensor_19  sensor_20  sensor_21  sensor_22  sensor_23  \\\n",
      "0      0.504      0.445      0.431      0.444      0.440      0.429   \n",
      "1      0.504      0.449      0.431      0.444      0.443      0.429   \n",
      "2      0.504      0.449      0.431      0.444      0.446      0.429   \n",
      "3      0.504      0.449      0.431      0.444      0.444      0.429   \n",
      "4      0.504      0.449      0.431      0.444      0.441      0.429   \n",
      "\n",
      "           direction  \n",
      "0  Slight-Right-Turn  \n",
      "1  Slight-Right-Turn  \n",
      "2  Slight-Right-Turn  \n",
      "3  Slight-Right-Turn  \n",
      "4  Slight-Right-Turn  \n",
      "\n",
      "[5 rows x 25 columns]\n"
     ]
    }
   ],
   "source": [
    "# Rename columns\n",
    "df.columns = [f'sensor_{i}' for i in range(24)] + ['direction']\n",
    "\n",
    "# Print the first few rows of the dataset\n",
    "print(df.head())"
   ]
  },
  {
   "cell_type": "code",
   "execution_count": 4,
   "metadata": {},
   "outputs": [],
   "source": [
    "# Split data into training and testing sets\n",
    "X_train, X_test, y_train, y_test = train_test_split(df.drop('direction', axis=1), df['direction'], test_size=0.2, random_state=42)"
   ]
  },
  {
   "cell_type": "code",
   "execution_count": 5,
   "metadata": {},
   "outputs": [],
   "source": [
    "# Scale the data\n",
    "scaler = StandardScaler()\n",
    "X_train = scaler.fit_transform(X_train)\n",
    "X_test = scaler.transform(X_test)"
   ]
  },
  {
   "cell_type": "code",
   "execution_count": 6,
   "metadata": {},
   "outputs": [],
   "source": [
    "from sklearn.linear_model import LogisticRegression \n",
    "from sklearn.metrics import accuracy_score, f1_score, mean_squared_error"
   ]
  },
  {
   "cell_type": "code",
   "execution_count": 7,
   "metadata": {},
   "outputs": [
    {
     "name": "stdout",
     "output_type": "stream",
     "text": [
      "Logistic Regression - Accuracy: 0.6978021978021978, F1 Score: 0.695102405348444\n"
     ]
    },
    {
     "name": "stderr",
     "output_type": "stream",
     "text": [
      "C:\\Users\\HP\\AppData\\Local\\Packages\\PythonSoftwareFoundation.Python.3.10_qbz5n2kfra8p0\\LocalCache\\local-packages\\Python310\\site-packages\\sklearn\\linear_model\\_logistic.py:458: ConvergenceWarning: lbfgs failed to converge (status=1):\n",
      "STOP: TOTAL NO. of ITERATIONS REACHED LIMIT.\n",
      "\n",
      "Increase the number of iterations (max_iter) or scale the data as shown in:\n",
      "    https://scikit-learn.org/stable/modules/preprocessing.html\n",
      "Please also refer to the documentation for alternative solver options:\n",
      "    https://scikit-learn.org/stable/modules/linear_model.html#logistic-regression\n",
      "  n_iter_i = _check_optimize_result(\n"
     ]
    }
   ],
   "source": [
    "# Fit the logistic regression model\n",
    "lr = LogisticRegression(random_state=42)\n",
    "lr.fit(X_train, y_train)\n",
    "\n",
    "# Predict on the test data\n",
    "lr_preds = lr.predict(X_test)\n",
    "\n",
    "# Evaluate the model\n",
    "lr_accuracy = accuracy_score(y_test, lr_preds)\n",
    "lr_f1_score = f1_score(y_test, lr_preds, average='weighted')\n",
    "print(f\"Logistic Regression - Accuracy: {lr_accuracy}, F1 Score: {lr_f1_score}\")"
   ]
  },
  {
   "cell_type": "code",
   "execution_count": 8,
   "metadata": {},
   "outputs": [],
   "source": [
    "from sklearn.tree import DecisionTreeClassifier"
   ]
  },
  {
   "cell_type": "code",
   "execution_count": 9,
   "metadata": {},
   "outputs": [
    {
     "name": "stdout",
     "output_type": "stream",
     "text": [
      "Decision Tree Classifier - Accuracy: 0.9954212454212454, F1 Score: 0.995416297362924\n"
     ]
    }
   ],
   "source": [
    "# Fit the decision tree classifier\n",
    "dt = DecisionTreeClassifier(random_state=42)\n",
    "dt.fit(X_train, y_train)\n",
    "\n",
    "# Predict on the test data\n",
    "dt_preds = dt.predict(X_test)\n",
    "\n",
    "# Evaluate the model\n",
    "dt_accuracy = accuracy_score(y_test, dt_preds)\n",
    "dt_f1_score = f1_score(y_test, dt_preds, average='weighted')\n",
    "print(f\"Decision Tree Classifier - Accuracy: {dt_accuracy}, F1 Score: {dt_f1_score}\")"
   ]
  },
  {
   "cell_type": "code",
   "execution_count": 10,
   "metadata": {},
   "outputs": [],
   "source": [
    "from sklearn.ensemble import RandomForestClassifier "
   ]
  },
  {
   "cell_type": "code",
   "execution_count": 11,
   "metadata": {},
   "outputs": [
    {
     "name": "stdout",
     "output_type": "stream",
     "text": [
      "Random Forest Classifier - Accuracy: 0.9926739926739927, F1 Score: 0.9926427098976979\n"
     ]
    }
   ],
   "source": [
    "# Fit the random forest classifier\n",
    "rf = RandomForestClassifier(random_state=42)\n",
    "rf.fit(X_train, y_train)\n",
    "\n",
    "# Predict on the test data\n",
    "rf_preds = rf.predict(X_test)\n",
    "\n",
    "# Evaluate the model\n",
    "rf_accuracy = accuracy_score(y_test, rf_preds)\n",
    "rf_f1_score = f1_score(y_test, rf_preds, average='weighted')\n",
    "print(f\"Random Forest Classifier - Accuracy: {rf_accuracy}, F1 Score: {rf_f1_score}\")\n"
   ]
  },
  {
   "cell_type": "code",
   "execution_count": 12,
   "metadata": {},
   "outputs": [],
   "source": [
    "from sklearn.model_selection import GridSearchCV"
   ]
  },
  {
   "cell_type": "code",
   "execution_count": 13,
   "metadata": {},
   "outputs": [
    {
     "name": "stdout",
     "output_type": "stream",
     "text": [
      "Best parameters: {'max_depth': 30, 'min_samples_leaf': 1, 'min_samples_split': 2, 'n_estimators': 50}\n",
      "Best score: 0.9933554546696512\n"
     ]
    }
   ],
   "source": [
    "# Define the parameter grid\n",
    "param_grid = {\n",
    "    'n_estimators': [10, 50, 100, 150],\n",
    "    'max_depth': [10, 20, 30, None],\n",
    "    'min_samples_split': [2, 5, 10],\n",
    "    'min_samples_leaf': [1, 2, 4],\n",
    "}\n",
    "\n",
    "# Create a random forest classifier object\n",
    "rf = RandomForestClassifier(random_state=42)\n",
    "\n",
    "# Create a GridSearchCV object\n",
    "grid_search = GridSearchCV(\n",
    "    rf, \n",
    "    param_grid=param_grid, \n",
    "    cv=5, \n",
    "    n_jobs=-1, \n",
    "    scoring='accuracy',\n",
    ")\n",
    "\n",
    "# Fit the GridSearchCV object\n",
    "grid_search.fit(X_train, y_train)\n",
    "\n",
    "# Print the best parameters and score\n",
    "print(f\"Best parameters: {grid_search.best_params_}\")\n",
    "print(f\"Best score: {grid_search.best_score_}\")"
   ]
  },
  {
   "cell_type": "code",
   "execution_count": 14,
   "metadata": {},
   "outputs": [
    {
     "name": "stdout",
     "output_type": "stream",
     "text": [
      "Tuned Random Forest Classifier - Accuracy: 0.9935897435897436, F1 Score: 0.9935585074352772\n"
     ]
    }
   ],
   "source": [
    "# Get the best model\n",
    "best_rf = grid_search.best_estimator_\n",
    "\n",
    "# Predict on the test data\n",
    "tuned_preds = best_rf.predict(X_test)\n",
    "\n",
    "# Evaluate the model\n",
    "tuned_accuracy = accuracy_score(y_test, tuned_preds)\n",
    "tuned_f1_score = f1_score(y_test, tuned_preds, average='weighted')\n",
    "print(f\"Tuned Random Forest Classifier - Accuracy: {tuned_accuracy}, F1 Score: {tuned_f1_score}\")"
   ]
  },
  {
   "cell_type": "code",
   "execution_count": 15,
   "metadata": {},
   "outputs": [
    {
     "name": "stdout",
     "output_type": "stream",
     "text": [
      "Results:\n",
      "Logistic Regression - Accuracy: 0.6978021978021978, F1 Score: 0.695102405348444\n",
      "Decision Tree - Accuracy: 0.9954212454212454, F1 Score: 0.995416297362924\n",
      "Random Forest - Accuracy: 0.9926739926739927, F1 Score: 0.9926427098976979\n"
     ]
    }
   ],
   "source": [
    "print(\"Results:\")\n",
    "print(f\"Logistic Regression - Accuracy: {lr_accuracy}, F1 Score: {lr_f1_score}\")\n",
    "print(f\"Decision Tree - Accuracy: {dt_accuracy}, F1 Score: {dt_f1_score}\")\n",
    "print(f\"Random Forest - Accuracy: {rf_accuracy}, F1 Score: {rf_f1_score}\")"
   ]
  }
 ],
 "metadata": {
  "kernelspec": {
   "display_name": "Python 3",
   "language": "python",
   "name": "python3"
  },
  "language_info": {
   "codemirror_mode": {
    "name": "ipython",
    "version": 3
   },
   "file_extension": ".py",
   "mimetype": "text/x-python",
   "name": "python",
   "nbconvert_exporter": "python",
   "pygments_lexer": "ipython3",
   "version": "3.10.11"
  },
  "orig_nbformat": 4,
  "vscode": {
   "interpreter": {
    "hash": "486e0d5a79acdbfffd563ee7a67a93a5017bd2a4f66495483a69f0245c8a4a6c"
   }
  }
 },
 "nbformat": 4,
 "nbformat_minor": 2
}
